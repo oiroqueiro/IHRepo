{
 "cells": [
  {
   "cell_type": "code",
   "execution_count": null,
   "metadata": {},
   "outputs": [],
   "source": [
    "import whisper\n",
    "import hashlib\n",
    "from pytube import YouTube\n",
    "from datetime import timedelta\n",
    "import os\n",
    "\n",
    "def download_video(url):\n",
    "    print(\"Start downloading\", url)\n",
    "    yt = YouTube(url)\n",
    "\n",
    "    hash_file = hashlib.md5()\n",
    "    hash_file.update(yt.title.encode())\n",
    "\n",
    "    file_name = f'{hash_file.hexdigest()}.mp4'\n",
    "\n",
    "    yt.streams.first().download(\"\", file_name)\n",
    "    print(\"Downloaded to\", file_name)\n",
    "\n",
    "    return {\n",
    "        \"file_name\": file_name,\n",
    "        \"title\": yt.title\n",
    "    }\n",
    "\n",
    "def transcribe_audio(path):\n",
    "    model = whisper.load_model(\"base\") # Change this to your desired model\n",
    "    print(\"Whisper model loaded.\")\n",
    "    video = download_video(path)\n",
    "    transcribe = model.transcribe(video[\"file_name\"])\n",
    "    os.remove(video[\"file_name\"])\n",
    "    segments = transcribe['segments']\n",
    "\n",
    "    for segment in segments:\n",
    "        startTime = str(0)+str(timedelta(seconds=int(segment['start'])))+',000'\n",
    "        endTime = str(0)+str(timedelta(seconds=int(segment['end'])))+',000'\n",
    "        text = segment['text']\n",
    "        segmentId = segment['id']+1\n",
    "        segment = f\"{segmentId}\\n{startTime} --> {endTime}\\n{text[1:] if text[0] is ' ' else text}\\n\\n\"\n",
    "\n",
    "        srtFilename = os.path.join(r\"C:\\Transcribe_project\", \"your_srt_file_name.srt\")\n",
    "        with open(srtFilename, 'a', encoding='utf-8') as srtFile:\n",
    "            srtFile.write(segment)\n",
    "\n",
    "    return srtFilename\n",
    "\n",
    "link = \"https://www.youtube.com/watch?v=8qpwqDnvTok\"\n",
    "result = transcribe_audio(link)"
   ]
  },
  {
   "cell_type": "code",
   "execution_count": null,
   "metadata": {},
   "outputs": [],
   "source": [
    "def write_srt(transcript: Iterator[dict], file: TextIO):\n",
    "    count = 0\n",
    "    for segment in transcript:\n",
    "        count +=1\n",
    "        print(\n",
    "            f\"{count}\\n\"\n",
    "            f\"{srt_format_timestamp(segment['start'])} --> {srt_format_timestamp(segment['end'])}\\n\"\n",
    "            f\"{segment['text'].replace('-->', '->').strip()}\\n\",\n",
    "            file=file,\n",
    "            flush=True,\n",
    "        )    "
   ]
  }
 ],
 "metadata": {
  "language_info": {
   "name": "python"
  },
  "orig_nbformat": 4
 },
 "nbformat": 4,
 "nbformat_minor": 2
}
