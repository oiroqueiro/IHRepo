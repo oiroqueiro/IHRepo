{
 "cells": [
  {
   "cell_type": "code",
   "execution_count": null,
   "metadata": {},
   "outputs": [],
   "source": [
    "import subprocess"
   ]
  },
  {
   "cell_type": "code",
   "execution_count": null,
   "metadata": {},
   "outputs": [],
   "source": [
    "#OpenAI Whisper command line\n",
    "    \n",
    "# convert mp3 to wav file\n",
    "%timeit subprocess.call(['whisper', 'data/test.mp3', '--model', 'tiny.en', '-o', 'data', '-f', 'txt'])"
   ]
  },
  {
   "cell_type": "markdown",
   "metadata": {},
   "source": [
    "________\n"
   ]
  },
  {
   "cell_type": "code",
   "execution_count": null,
   "metadata": {},
   "outputs": [],
   "source": [
    "import speech_recognition as sr"
   ]
  },
  {
   "cell_type": "code",
   "execution_count": null,
   "metadata": {},
   "outputs": [],
   "source": [
    "AUDIO_FILE='data/test.wav'"
   ]
  },
  {
   "cell_type": "code",
   "execution_count": null,
   "metadata": {},
   "outputs": [],
   "source": [
    "r = sr.Recognizer()"
   ]
  },
  {
   "cell_type": "code",
   "execution_count": null,
   "metadata": {},
   "outputs": [],
   "source": [
    "with sr.AudioFile(AUDIO_FILE) as source:\n",
    "    audio = r.record(source)"
   ]
  },
  {
   "cell_type": "code",
   "execution_count": null,
   "metadata": {},
   "outputs": [],
   "source": [
    "r.recognize_whisper(audio, model='tiny.en')"
   ]
  },
  {
   "cell_type": "code",
   "execution_count": null,
   "metadata": {},
   "outputs": [],
   "source": [
    "\"\"\"recognizer_instance.recognize_whisper(audio_data: AudioData, model: str=\"base\", show_dict: bool=False, load_options: Dict[Any, Any]=None, language:Optional[str]=None, translate:bool=False, **transcribe_options):\"\"\""
   ]
  },
  {
   "cell_type": "code",
   "execution_count": null,
   "metadata": {},
   "outputs": [],
   "source": [
    "speech_recognition.Microphone()"
   ]
  },
  {
   "cell_type": "code",
   "execution_count": 3,
   "metadata": {},
   "outputs": [
    {
     "ename": "ModuleNotFoundError",
     "evalue": "No module named 'whisper'",
     "output_type": "error",
     "traceback": [
      "\u001b[0;31m---------------------------------------------------------------------------\u001b[0m",
      "\u001b[0;31mModuleNotFoundError\u001b[0m                       Traceback (most recent call last)",
      "\u001b[0;32m<ipython-input-3-85f566370d23>\u001b[0m in \u001b[0;36m<module>\u001b[0;34m\u001b[0m\n\u001b[0;32m----> 1\u001b[0;31m \u001b[0;32mimport\u001b[0m \u001b[0mwhisper\u001b[0m\u001b[0;34m\u001b[0m\u001b[0;34m\u001b[0m\u001b[0m\n\u001b[0m\u001b[1;32m      2\u001b[0m \u001b[0mprint\u001b[0m\u001b[0;34m(\u001b[0m\u001b[0mwhisper\u001b[0m\u001b[0;34m.\u001b[0m\u001b[0m__file__\u001b[0m\u001b[0;34m)\u001b[0m\u001b[0;34m\u001b[0m\u001b[0;34m\u001b[0m\u001b[0m\n",
      "\u001b[0;31mModuleNotFoundError\u001b[0m: No module named 'whisper'"
     ]
    }
   ],
   "source": [
    "import whisper\n",
    "print(whisper.__file__)\n"
   ]
  },
  {
   "cell_type": "code",
   "execution_count": 7,
   "metadata": {},
   "outputs": [
    {
     "name": "stderr",
     "output_type": "stream",
     "text": [
      "/home/roque/anaconda3/lib/python3.9/site-packages/whisper/transcribe.py:78: UserWarning: FP16 is not supported on CPU; using FP32 instead\n",
      "  warnings.warn(\"FP16 is not supported on CPU; using FP32 instead\")\n"
     ]
    },
    {
     "name": "stdout",
     "output_type": "stream",
     "text": [
      " And I will share my screen. So basically one of the most asked questions for this next six months are can you all see my screen and can you hear me in case you don't let me know or just write in the chat. Otherwise, I just start. Okay, so the agenda for my presentation is what do I need to start the course right then what should I expect in the following days. What should I do to successfully complete the bootcamp and of course we all want you to complete the bootcamp successful will be my point of contact and then you will meet your teaching team. So what do I need to start the course right first very important beyond slack. I know if you are working with slack for the first time it can be a little bit confusing because we are working with two different workspaces. If the channel workspace which is the light blue one and there you can find every iron hacker ever and also the data pre work help channel and then you already received a link for the class workspace. It's like where all the data communication takes place so it's mandatory to join there I think not everyone joins by now that's what I saw if you're struggling finding the link or struggle joining select just reach out to me. And in the class workspace you have like all your teaching team and all your colleagues. Then in terms of pre work so pre work should be ready by now if not please reach out to me the thing we are so strict on pre work deadline is at first it's. You do yourself a favor because if you don't do pre work you won't be able to follow the course because the course is fast paced and it's very easier for you if you have like insights from pre work. On the other side your teaching team will look through the pre work and then it to provide some feedback and they will start this week and in order to give them a little bit time to work to go through the pre work it's mandatory to. And also my advice is if you have the time now also do say zero off career hack because the more you do now you will be happy during the bootcamp and if you already finished with pre work and show you the last three weekends. And then what should I expect in the following days so today is week zero we call it big zero because it's the week before your bootcamp starts and today is day zero. And then you have your first day of the bootcamp on Tuesday I will send the invitation with the link and all the information on after this meeting today so we will start on Tuesday at 6 30 Central European time and please be punctual because we will start with a presentation and afterwards you to you start the journey. And then you will start with the first two two successfully complete the bootcamp. During the bootcamp in terms of dedication you will need to know that there will be times where you need to work outside bootcamp hours. So you have the bootcamp hours but in terms of labs or projects for example, you will be asked to work also on other days that I'm not bootcamp hours. So you will be able to do more projects and activities for the in class dynamics please please have your camera on you will recognize that it's way easier and the way more community atmosphere if you can see each other's faces and also connecting to each other's way easier. Otherwise the teaching team with feedback in how you're getting the content or if you're completely lost the mic's are turned off during the lecture time but of course if you have any questions just turn off your turn on your mic. And ask the question and don't be shy asking questions because even if you are the only one asking 100% sure you're not the only one with the question. In terms of graduation so we don't work with great iron hack but we have other criteria to fulfill in order to graduate. The first one is the attendance so you're not allowed to miss more than seven classes or you want graduate. And in terms of functionality if you arrive ten minutes to late it counts as a party and if you have three parties it counts as an absence day. So meaning if you arrive three times ten minutes late it counts as if you wouldn't be there for one day. In terms of labs of course we recommend to have a hundred percent lab competition because the labs are the perfect time to put everything you learned in practice. So you do yourself a day do yourself a favor if you do a hundred percent of the labs but if you do less than eighty percent you won't graduate. And in terms of the project which is the third part criteria to graduate you will need to present them and do all of them by your own and they need to be.\n"
     ]
    }
   ],
   "source": [
    "model = whisper.load_model(\"tiny.en\")\n",
    "result = model.transcribe(\"data/test.mp3\")\n",
    "print(result[\"text\"])"
   ]
  },
  {
   "cell_type": "code",
   "execution_count": 1,
   "metadata": {},
   "outputs": [
    {
     "name": "stdout",
     "output_type": "stream",
     "text": [
      "/snap/jupyter/6/bin/python\n"
     ]
    }
   ],
   "source": [
    "import sys\n",
    "print(sys.executable)"
   ]
  },
  {
   "cell_type": "code",
   "execution_count": 10,
   "metadata": {},
   "outputs": [
    {
     "data": {
      "text/plain": [
       "<module 'whisper' from '/home/roque/anaconda3/lib/python3.9/site-packages/whisper/__init__.py'>"
      ]
     },
     "execution_count": 10,
     "metadata": {},
     "output_type": "execute_result"
    }
   ],
   "source": [
    "whisper"
   ]
  },
  {
   "cell_type": "code",
   "execution_count": 8,
   "metadata": {},
   "outputs": [],
   "source": []
  },
  {
   "cell_type": "code",
   "execution_count": 2,
   "metadata": {},
   "outputs": [
    {
     "name": "stdout",
     "output_type": "stream",
     "text": [
      "['/home/roque/01. IronHack/00. Data Analytics/01. Course/63. Week 23 - Day 3/git/final-project-bootcamp', '/snap/jupyter/6/lib/python37.zip', '/snap/jupyter/6/lib/python3.7', '/snap/jupyter/6/lib/python3.7/lib-dynload', '', '/snap/jupyter/6/lib/python3.7/site-packages', '/snap/jupyter/6/lib/python3.7/site-packages/IPython/extensions', '/home/roque/snap/jupyter/6/.ipython']\n"
     ]
    }
   ],
   "source": [
    "print(sys.path)"
   ]
  },
  {
   "cell_type": "code",
   "execution_count": null,
   "metadata": {},
   "outputs": [],
   "source": []
  }
 ],
 "metadata": {
  "kernelspec": {
   "display_name": "Python 3",
   "language": "python",
   "name": "python3"
  },
  "language_info": {
   "codemirror_mode": {
    "name": "ipython",
    "version": 3
   },
   "file_extension": ".py",
   "mimetype": "text/x-python",
   "name": "python",
   "nbconvert_exporter": "python",
   "pygments_lexer": "ipython3",
   "version": "3.7.3"
  }
 },
 "nbformat": 4,
 "nbformat_minor": 5
}
