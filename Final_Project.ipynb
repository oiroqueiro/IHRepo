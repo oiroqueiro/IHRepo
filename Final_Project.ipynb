{
 "cells": [
  {
   "cell_type": "code",
   "execution_count": 65,
   "metadata": {},
   "outputs": [],
   "source": [
    "# Libraries\n",
    "\n",
    "import whisper\n",
    "from datetime import timedelta\n",
    "import os"
   ]
  },
  {
   "cell_type": "code",
   "execution_count": 71,
   "metadata": {},
   "outputs": [
    {
     "name": "stderr",
     "output_type": "stream",
     "text": [
      "100%|█████████████████████████████████████| 1.42G/1.42G [06:43<00:00, 3.79MiB/s]\n",
      "/home/roque/01. IronHack/00. Data Analytics/01. Course/63. Week 23 - Day 3/git/final-project-bootcamp/.venv/lib/python3.9/site-packages/whisper/transcribe.py:79: UserWarning: FP16 is not supported on CPU; using FP32 instead\n",
      "  warnings.warn(\"FP16 is not supported on CPU; using FP32 instead\")\n"
     ]
    }
   ],
   "source": [
    "# speech\n",
    "\n",
    "model = whisper.load_model(\"medium.en\",device='cpu')\n",
    "result = model.transcribe(\"data/test.mp4\")\n",
    "\n",
    "with open(\"data/test.txt\", \"w+\") as f:\n",
    "    f.write(result[\"text\"])\n",
    "\n",
    "# subtitles\n",
    "\n",
    "segments = result['segments']\n",
    "\n",
    "for segment in segments:\n",
    "    startTime = str(0)+str(timedelta(seconds=int(segment['start'])))+',000'\n",
    "    endTime = str(0)+str(timedelta(seconds=int(segment['end'])))+',000'\n",
    "    text = segment['text']\n",
    "    segmentId = segment['id']+1\n",
    "    segment = f\"{segmentId}\\n{startTime} --> {endTime}\\n{text[1:] if text[0] == ' ' else text}\\n\\n\"\n",
    "\n",
    "    srtFilename = os.path.join(r\"data\", \"test.srt\")\n",
    "    with open(srtFilename, 'a', encoding='utf-8') as srtFile:\n",
    "        srtFile.write(segment)\n",
    "\n"
   ]
  },
  {
   "cell_type": "code",
   "execution_count": 105,
   "metadata": {},
   "outputs": [
    {
     "data": {
      "text/plain": [
       "\" And I will share my screen. So basically one of the most asked questions for this next six months are can you all see my screen and can you hear me? In case you don't let me know or just write in the chat. Otherwise I just start. OK. So the agenda for my presentation is what do I need to start the course, right? Then what should I expect in the following days? What should I do to successfully complete the bootcamp? And of course, we all want you to complete the bootcamp successful. Will be my point of contact and then you will meet your teaching team. So what do I need to start the course? Right. First, very important. Be on Slack. I know if you are working with Slack for the first time, it can be a little bit confusing because we are working with two different workspaces. You have the general workspace, which is the light blue one. And there you can find every Iron Hacker ever. And also the data pre-work help channel. And then you already received the link for the class workspace. It's like where all the daily communication takes place. So it's mandatory to join there. I think not everyone joins by now. That's what I saw. If you have struggled finding the link or struggle joining Slack, just reach out to me. And in the class workspace, you have like all your teaching team and all your colleagues. Then in terms of pre-work, so pre-work should be ready by now. If not, please reach out to me. The thing we are so strict on pre-work deadline is at first it's you do yourself a favour, because if you don't do pre-work, you won't be able to follow the course because the course is fast paced. And it's very easier for you if you have like the insights from pre-work. On the other side, your teaching team will look through the pre-work and they need to provide some feedback. And they will start this week. And in order to give them a little bit time to work to go through the pre-work, it's mandatory to have it finished by now. And also my advice is if you have the time now, also do stage zero of CareerHack, because the more you do now, you will be happy during the bootcamp. And if you already finished with pre-work, enjoy the last free weekend or free Saturday at least. And then what should I expect in the following days? So today is week zero. We call it week zero because it's the week before your bootcamp starts. And today is day zero. Then in week one, you have your first day of the bootcamp. On Tuesday, I will send the invitation with the link and all the information after this meeting today. So we will start on Tuesday at six thirty Central European Time. And please be punctual because we will start with a presentation and afterwards you start the journey. Then what should I do to successfully complete the bootcamp? During the bootcamp, in terms of dedication, you will need to know that there will be times where you need to work out of outside bootcamp hours. So you have the bootcamp hours. But in terms of labs or projects, for example, you will be asked to work also on other days that are not bootcamp hours. And also you will work in individual projects, but also in group projects and activities. For the in-class dynamics, please, please have your camera on. You will recognize that it's way easier and the way more familiar atmosphere if you can see each other's faces and also connecting to each other is way easier. And also it provides the teaching team with feedback in how you're getting the content or if you are completely lost. The mics are turned off during the lecture time. But of course, if you have any questions, just turn off your turn on your mic and ask the question. And don't be shy asking questions, because even if you are the only one asking, I'm 100 percent sure you're not the only one with the question. In terms of graduation, so we don't work with grades at Iron Hack, but we have other criteria to fulfill in order to graduate. The first one is the attendance. So you're not allowed to miss more than seven classes or you won't graduate. And in terms of punctuality, if you arrive 10 minutes too late, it counts as a tardy. And if you have three tardies, it counts as an absence day. So meaning if you arrived three times, 10 minutes late, it counts as if you wouldn't be there for one day. In terms of labs, of course, we recommend to have 100 percent lab completion because the labs are the perfect time to put everything you learned in practice. So you do yourself a favor if you do 100 percent of the labs. But if you do less than 80 percent, you won't graduate. And in terms of the project, which is the third criteria to graduate, you will need to present them and do all of them by your own, and they need to be up to a certain standard. Then who will be my point of contact? There are several people involved in your Iron Hack experience, which is firstly your lead teacher, which is David.\""
      ]
     },
     "execution_count": 105,
     "metadata": {},
     "output_type": "execute_result"
    }
   ],
   "source": [
    "result['text']"
   ]
  },
  {
   "cell_type": "code",
   "execution_count": 107,
   "metadata": {},
   "outputs": [
    {
     "data": {
      "text/plain": [
       "{'id': 1,\n",
       " 'seek': 0,\n",
       " 'start': 4.0,\n",
       " 'end': 14.0,\n",
       " 'text': ' So basically one of the most asked questions for this next six months are can you all see my screen and can you hear me?',\n",
       " 'tokens': [1406,\n",
       "  6209,\n",
       "  530,\n",
       "  286,\n",
       "  262,\n",
       "  749,\n",
       "  1965,\n",
       "  2683,\n",
       "  329,\n",
       "  428,\n",
       "  1306,\n",
       "  2237,\n",
       "  1933,\n",
       "  389,\n",
       "  460,\n",
       "  345,\n",
       "  477,\n",
       "  766,\n",
       "  616,\n",
       "  3159,\n",
       "  290,\n",
       "  460,\n",
       "  345,\n",
       "  3285,\n",
       "  502,\n",
       "  30],\n",
       " 'temperature': 0.0,\n",
       " 'avg_logprob': -0.28894358775654777,\n",
       " 'compression_ratio': 1.4493670886075949,\n",
       " 'no_speech_prob': 0.08684176951646805}"
      ]
     },
     "execution_count": 107,
     "metadata": {},
     "output_type": "execute_result"
    }
   ],
   "source": [
    "result['segments'][1]"
   ]
  },
  {
   "cell_type": "code",
   "execution_count": 118,
   "metadata": {},
   "outputs": [],
   "source": [
    "# Summary\n",
    "\n",
    "# python -m spacy download en_core_web_sm #eficency\n",
    "# python -m spacy download en_core_web_trf #accuracy\n",
    "\n",
    "import spacy\n",
    "import en_core_web_trf\n",
    "#import en_core_web_sm\n",
    "from spacy.lang.en.stop_words import STOP_WORDS\n",
    "import spacy_transformers\n",
    "from string import punctuation\n",
    "from heapq import nlargest\n",
    "\n",
    "def summarize(text, per):\n",
    "    #nlp = spacy.load('en_core_web_trf')\n",
    "    nlp = en_core_web_trf.load()\n",
    "    doc= nlp(text)\n",
    "    tokens=[token.text for token in doc]\n",
    "    word_frequencies={}\n",
    "    for word in doc:\n",
    "        if word.text.lower() not in list(STOP_WORDS):\n",
    "            if word.text.lower() not in punctuation:\n",
    "                if word.text not in word_frequencies.keys():\n",
    "                    word_frequencies[word.text] = 1\n",
    "                else:\n",
    "                    word_frequencies[word.text] += 1\n",
    "    max_frequency=max(word_frequencies.values())\n",
    "    for word in word_frequencies.keys():\n",
    "        word_frequencies[word]=word_frequencies[word]/max_frequency\n",
    "    sentence_tokens= [sent for sent in doc.sents]\n",
    "    sentence_scores = {}\n",
    "    for sent in sentence_tokens:\n",
    "        for word in sent:\n",
    "            if word.text.lower() in word_frequencies.keys():\n",
    "                if sent not in sentence_scores.keys():                            \n",
    "                    sentence_scores[sent]=word_frequencies[word.text.lower()]\n",
    "                else:\n",
    "                    sentence_scores[sent]+=word_frequencies[word.text.lower()]\n",
    "    select_length=int(len(sentence_tokens)*per)\n",
    "    summary=nlargest(select_length, sentence_scores,key=sentence_scores.get)\n",
    "    final_summary=[word.text for word in summary]\n",
    "    summary=''.join(final_summary)\n",
    "    return summary"
   ]
  },
  {
   "cell_type": "code",
   "execution_count": 119,
   "metadata": {},
   "outputs": [
    {
     "data": {
      "text/plain": [
       "\"The thing we are so strict on pre-work deadline is at first it's you do yourself a favour, because if you don't do pre-work, you won't be able to follow the course because the course is fast paced.During the bootcamp, in terms of dedication, you will need to know that there will be times where you need to work out of outside bootcamp hours.Then in terms of pre-work, so pre-work should be ready by now.And in order to give them a little bit time to work to go through the pre-work, it's mandatory to have it finished by now.But in terms of labs or projects, for example, you will be asked to work also on other days that are not bootcamp hours.On the other side, your teaching team will look through the pre-work and they need to provide some feedback.\""
      ]
     },
     "execution_count": 119,
     "metadata": {},
     "output_type": "execute_result"
    }
   ],
   "source": [
    "summarize(result['text'], 0.10)"
   ]
  },
  {
   "cell_type": "code",
   "execution_count": 117,
   "metadata": {},
   "outputs": [
    {
     "data": {
      "text/plain": [
       "\"The thing we are so strict on pre-work deadline is at first it's you do yourself a favour, because if you don't do pre-work, you won't be able to follow the course because the course is fast paced.During the bootcamp, in terms of dedication, you will need to know that there will be times where you need to work out of outside bootcamp hours.Then in terms of pre-work, so pre-work should be ready by now.And in order to give them a little bit time to work to go through the pre-work, it's mandatory to have it finished by now.But in terms of labs or projects, for example, you will be asked to work also on other days that are not bootcamp hours.On the other side, your teaching team will look through the pre-work and they need to provide some feedback.\""
      ]
     },
     "execution_count": 117,
     "metadata": {},
     "output_type": "execute_result"
    }
   ],
   "source": [
    "summarize(result['text'], 0.10)"
   ]
  }
 ],
 "metadata": {
  "kernelspec": {
   "display_name": ".venv",
   "language": "python",
   "name": "python3"
  },
  "language_info": {
   "codemirror_mode": {
    "name": "ipython",
    "version": 3
   },
   "file_extension": ".py",
   "mimetype": "text/x-python",
   "name": "python",
   "nbconvert_exporter": "python",
   "pygments_lexer": "ipython3",
   "version": "3.9.12"
  },
  "vscode": {
   "interpreter": {
    "hash": "3c2f1846f3955305d6cdcd7be5897be31bd89b0ce061940c94fabaf8ec721e2a"
   }
  }
 },
 "nbformat": 4,
 "nbformat_minor": 2
}
